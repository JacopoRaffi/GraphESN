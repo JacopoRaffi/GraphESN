{
 "cells": [
  {
   "cell_type": "markdown",
   "metadata": {},
   "source": [
    "# MUTAG Example\n",
    "\n",
    "The goal of the example is not to achieve the best performance, but to show how the GraphESN classifier can be used for a graph-level task."
   ]
  },
  {
   "cell_type": "code",
   "execution_count": 5,
   "metadata": {},
   "outputs": [
    {
     "name": "stdout",
     "output_type": "stream",
     "text": [
      "The autoreload extension is already loaded. To reload it, use:\n",
      "  %reload_ext autoreload\n"
     ]
    }
   ],
   "source": [
    "%load_ext autoreload\n",
    "%autoreload 2"
   ]
  },
  {
   "cell_type": "code",
   "execution_count": 9,
   "metadata": {},
   "outputs": [],
   "source": [
    "from torch_geometric.datasets import TUDataset\n",
    "from torch_geometric.loader import DataLoader\n",
    "from torch_geometric.utils import to_scipy_sparse_matrix\n",
    "import torch.nn.functional as F\n",
    "from scipy.sparse.linalg import eigs\n",
    "import statistics as stats\n",
    "\n",
    "import os\n",
    "import sys\n",
    "import shutil\n",
    "\n",
    "sys.path.append(os.path.abspath('../src'))\n",
    "from graphesn import GraphESN\n",
    "\n",
    "os.makedirs('../data', exist_ok=True)"
   ]
  },
  {
   "cell_type": "code",
   "execution_count": 2,
   "metadata": {},
   "outputs": [
    {
     "name": "stderr",
     "output_type": "stream",
     "text": [
      "Downloading https://www.chrsmrrs.com/graphkerneldatasets/MUTAG.zip\n",
      "Processing...\n",
      "Done!\n"
     ]
    }
   ],
   "source": [
    "dataset = TUDataset(root=\"../data\", name=\"MUTAG\")\n",
    "dataset = dataset.shuffle()"
   ]
  },
  {
   "cell_type": "code",
   "execution_count": 3,
   "metadata": {},
   "outputs": [],
   "source": [
    "train_size = int(0.8 * len(dataset))  # 80% dev(train + validation), 20% test\n",
    "train_set = dataset[:train_size]\n",
    "test_set = dataset[train_size:]\n",
    "\n",
    "train_loader = DataLoader(train_set, batch_size=train_size, shuffle=False)\n",
    "test_loader = DataLoader(test_set, batch_size=len(test_set), shuffle=False)"
   ]
  },
  {
   "cell_type": "markdown",
   "metadata": {},
   "source": [
    "### Hyperparameters"
   ]
  },
  {
   "cell_type": "code",
   "execution_count": 14,
   "metadata": {},
   "outputs": [
    {
     "data": {
      "text/plain": [
       "np.float32(2.467464)"
      ]
     },
     "execution_count": 14,
     "metadata": {},
     "output_type": "execute_result"
    }
   ],
   "source": [
    "def compute_spectral_radius(data):\n",
    "    A = to_scipy_sparse_matrix(data.edge_index, num_nodes=data.num_nodes).tocsc()\n",
    "    eigenvalues = sorted(eigs(A, k=1, which='LM', return_eigenvectors=False), reverse=True) \n",
    "    return abs(eigenvalues[0])\n",
    "\n",
    "spectral_radii = [compute_spectral_radius(data) for data in dataset]\n",
    "stats.mean(spectral_radii)"
   ]
  },
  {
   "cell_type": "code",
   "execution_count": 20,
   "metadata": {},
   "outputs": [],
   "source": [
    "RHO = 1.2 # spectral radius of the adjacency matrix for re-scaling the reservoir weights\n",
    "OMEGA = 0.5 # input scale for the input weights\n",
    "RESERVOIR_SIZE = 100 # number of nodes in the reservoir\n",
    "REC_INITIALIZATION = 'ring'\n",
    "INPUT_INITIALIZATION = 'sign'\n",
    "INPUT_SIZE = dataset.num_features"
   ]
  },
  {
   "cell_type": "code",
   "execution_count": 21,
   "metadata": {},
   "outputs": [],
   "source": [
    "model = GraphESN(INPUT_SIZE, RESERVOIR_SIZE, RHO, OMEGA, INPUT_INITIALIZATION, REC_INITIALIZATION)\n",
    "train_data = next(iter(train_loader))\n",
    "\n",
    "model.fit(train_data.x, train_data.edge_index, train_data.batch, train_data.y)"
   ]
  },
  {
   "cell_type": "code",
   "execution_count": 27,
   "metadata": {},
   "outputs": [
    {
     "name": "stdout",
     "output_type": "stream",
     "text": [
      "Training Accuracy: 94.67%\n",
      "Test Accuracy: 86.84%\n"
     ]
    }
   ],
   "source": [
    "# Compute the loss for the training data\n",
    "train_output = model(train_data.x, train_data.edge_index, train_data.batch)\n",
    "correct = train_output.eq(train_data.y).sum().item()\n",
    "accuracy = correct / len(train_data.y)\n",
    "print(f'Training Accuracy: {accuracy * 100:.2f}%')\n",
    "\n",
    "# # Compute the accuracy for the test data\n",
    "test_data = next(iter(test_loader))\n",
    "test_output = model(test_data.x, test_data.edge_index, test_data.batch)\n",
    "correct = test_output.eq(test_data.y).sum().item()\n",
    "accuracy = correct / len(test_data.y)\n",
    "print(f'Test Accuracy: {accuracy * 100:.2f}%')"
   ]
  },
  {
   "cell_type": "markdown",
   "metadata": {},
   "source": [
    "### Clean All"
   ]
  },
  {
   "cell_type": "code",
   "execution_count": null,
   "metadata": {},
   "outputs": [],
   "source": [
    "shutil.rmtree('../data')"
   ]
  }
 ],
 "metadata": {
  "kernelspec": {
   "display_name": "torch",
   "language": "python",
   "name": "python3"
  },
  "language_info": {
   "codemirror_mode": {
    "name": "ipython",
    "version": 3
   },
   "file_extension": ".py",
   "mimetype": "text/x-python",
   "name": "python",
   "nbconvert_exporter": "python",
   "pygments_lexer": "ipython3",
   "version": "3.10.12"
  }
 },
 "nbformat": 4,
 "nbformat_minor": 2
}
